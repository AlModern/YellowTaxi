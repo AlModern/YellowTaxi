{
 "cells": [
  {
   "cell_type": "markdown",
   "metadata": {},
   "source": [
    "<b><div style=\"text-align:right\">Алексей Бебчик&nbsp;&nbsp;</div><b>\n",
    "### Курс 6. Желтое такси. Неделя 4. Прогнозирование ряда со сложной сезонностью  \n",
    "(задание, оцениваемое сокурсниками)\n",
    "\n",
    "\n"
   ]
  },
  {
   "cell_type": "markdown",
   "metadata": {},
   "source": [
    "### Часть 3. Прогноз поездок и расчет метрики качества"
   ]
  },
  {
   "cell_type": "markdown",
   "metadata": {},
   "source": [
    "<a href=\"https://www.coursera.org/learn/data-analysis-project/peer/zp6d0/proghnozirovaniie-bol-shogho-kolichiestva-riadov\">Задание</a>\n",
    "\n",
    "6.Для каждой из $R$ географических зон настройте на данных __до апреля 2016__ включительно модель ARIMA с гиперпараметрами, соответствующими кластеру этой зоны. Для каждого конца истории от 2016.04.30 23:00 до 2016.05.31 17:00 постройте прогноз на 6 часов вперёд и посчитайте в ноутбуке ошибку прогноза по следующему функционалу:    \n",
    "\n",
    "$Q_{may} =\\frac1{R* 739* 6} \\sum\\limits_{r=1}^{R} \\sum_{T=2016.04.30\\,23:00}^{2016.05.31\\,17:00} \\sum_{i=1}^6 \\left| \\hat{y}^r_{T|T+i} - y_{T+i}^r \\right|.$  \n",
    "\n",
    "7.Для каждой из $R$ географических зон настройте на данных __до мая 2016__ включительно модель ARIMA с гиперпараметрами, соответствующими кластеру этой зоны. \n",
    "\n",
    "Для каждого конца истории от 2016.05.31 23:00 до 2016.06.30 17:00 постройте прогноз на 6 часов вперёд и запишите все прогнозы в файл в формате id,y, где столбец id состоит из склеенных через подчёркивание идентификатора географической зоны, даты конца истории, часа конца истории и номера отсчёта, на который делается предсказание (1-6); столбец y — ваш прогноз."
   ]
  },
  {
   "cell_type": "markdown",
   "metadata": {
    "collapsed": true
   },
   "source": [
    "__Внимание!__ Пользовалтельские функции определены в конце файла. Пожалуйста, пройдите вниз файла, выполните __\"Блок определения пользовательских функций\"__, затем вернитесь продолжите с этого места."
   ]
  },
  {
   "cell_type": "code",
   "execution_count": 3,
   "metadata": {
    "collapsed": false,
    "scrolled": true
   },
   "outputs": [
    {
     "name": "stdout",
     "output_type": "stream",
     "text": [
      "Populating the interactive namespace from numpy and matplotlib\n"
     ]
    }
   ],
   "source": [
    "import numpy as np\n",
    "import pandas as pd\n",
    "import matplotlib.pyplot as plt\n",
    "from scipy import stats\n",
    "from scipy.stats import binned_statistic_2d\n",
    "import os                                     #для проверки существования файлов\n",
    "import statsmodels.api as sm\n",
    "from sklearn import linear_model\n",
    "import datetime as dt\n",
    "import timeit as ti\n",
    "from  statsmodels.tsa.arima_model import ARIMAResults\n",
    "%pylab inline"
   ]
  },
  {
   "cell_type": "markdown",
   "metadata": {},
   "source": [
    "__ Подготовка данных__"
   ]
  },
  {
   "cell_type": "markdown",
   "metadata": {},
   "source": [
    "Загрузим уже агрерированные данные за 2016 год (файл с таким именем прилагается к работе)"
   ]
  },
  {
   "cell_type": "code",
   "execution_count": 4,
   "metadata": {
    "collapsed": true
   },
   "outputs": [],
   "source": [
    "data_path = '..\\\\YTData\\\\' #путь к папке с данными"
   ]
  },
  {
   "cell_type": "code",
   "execution_count": 5,
   "metadata": {
    "collapsed": false
   },
   "outputs": [],
   "source": [
    "#Имя файла с данными для формирования и загрузки\n",
    "reg_fname = data_path + 'regions.csv'\n",
    "w4_fname  = data_path + 'YTw4_tripdata_2016' #K6_w4_tripdata_2016\n",
    "w4_fname_data = w4_fname + '_data.csv'"
   ]
  },
  {
   "cell_type": "code",
   "execution_count": 6,
   "metadata": {
    "collapsed": true
   },
   "outputs": [],
   "source": [
    "cload = True\n",
    "if cload==True: \n",
    "    data_all = pd.read_csv(w4_fname_data, parse_dates=['dt_hour'], dayfirst=True) #Загружаем подготовленные данные из файла\n",
    "else: #Готовим данные с сохраняем в файл\n",
    "    data_all = load_prepare_save_data(save_fname=w4_fname_data, reg_fname=reg_fname, month_count=6) "
   ]
  },
  {
   "cell_type": "code",
   "execution_count": 18,
   "metadata": {
    "collapsed": false
   },
   "outputs": [
    {
     "name": "stdout",
     "output_type": "stream",
     "text": [
      "102\n"
     ]
    }
   ],
   "source": [
    "print data_all.region.unique().shape[0] #102 района"
   ]
  },
  {
   "cell_type": "code",
   "execution_count": 19,
   "metadata": {
    "collapsed": true
   },
   "outputs": [],
   "source": [
    "#Создадим структуру для накопления данных в разрезе регионов (только те, которые будем прогнозировать)\n",
    "data_reg = pd.DataFrame(data_all.region.unique(), columns=['region']) "
   ]
  },
  {
   "cell_type": "code",
   "execution_count": 20,
   "metadata": {
    "collapsed": false
   },
   "outputs": [
    {
     "name": "stdout",
     "output_type": "stream",
     "text": [
      "Размер Фолда 1 296208\n",
      "Размер Фолда 2 372096\n"
     ]
    }
   ],
   "source": [
    "data_all['fold'] = 0 #определим фолды для обучения (\"1-до мая\" и \"2-с мая до июня\")\n",
    "data_all.loc[data_all.dt_hour < dt.datetime(2016,6,1), 'fold'] = 2 #Фолд 2 (предсказание)\n",
    "data_all.loc[data_all.dt_hour < dt.datetime(2016,5,1), 'fold'] = 1 #Фолд 1 (предсказание + настройка параметров модели)\n",
    "print 'Размер Фолда 1', data_all[(data_all.fold <> 0) & (data_all.fold <= 1)].shape[0]\n",
    "print 'Размер Фолда 2', data_all[(data_all.fold <> 0) & (data_all.fold <= 2)].shape[0]"
   ]
  },
  {
   "cell_type": "code",
   "execution_count": 21,
   "metadata": {
    "collapsed": true,
    "scrolled": true
   },
   "outputs": [],
   "source": [
    "data_all.set_index('dt_hour', drop=False, inplace=True) #восстанавливаем индекс на основе Даты-времени\n",
    "data_all.index.name = 'dt_index' "
   ]
  },
  {
   "cell_type": "code",
   "execution_count": 22,
   "metadata": {
    "collapsed": false
   },
   "outputs": [],
   "source": [
    "data_all['day'] = data_all.dt_hour.dt.floor('D') #выделим отдельно день\n",
    "data_all['weekday'] = data_all.dt_hour.dt.dayofweek\n",
    "\n",
    "w_cols = ['w_precip', 'w_snow_fall', 'w_avg_temp'] #столбцы погоды\n",
    "df_weather = pd.read_csv(data_path + 'weather_data_nyc_centralpark_2016(1).csv', parse_dates=['date'], dayfirst=True)\n",
    "df_weather.rename(columns={u'date':u'day'}, inplace=True)\n",
    "#Т.к. минимальное ненулевое значение 0.01, а T- это trace, \"след\", то поставим ему 0.001 (больше 0, меньше 0.01)\n",
    "df_weather['snow fall']     = df_weather['snow fall'].apply(lambda x: 0.001 if x == 'T' else float(x))\n",
    "df_weather['precipitation'] = df_weather['precipitation'].apply(lambda x: 0.001 if x == 'T' else float(x))\n",
    "#Добавим столбцы с погодой\n",
    "data_all['w_snow_fall'] = np.array(pd.merge(data_all, df_weather, how='inner', on=['day'])['snow fall'])\n",
    "data_all['w_avg_temp']  = np.array(pd.merge(data_all, df_weather, how='inner', on=['day'])['average temperature'])\n",
    "data_all['w_precip']    = np.array(pd.merge(data_all, df_weather, how='inner', on=['day'])['precipitation']).astype(float)\n",
    "#Нормализация (от 0 до 1), не используем scale, т.к. отрицательные значения нам не нужны, их нет в sin и cos\n",
    "#Вообще это не совсем правильная нормализация, нужно настроить Transformer и применятьь для прогноза уже его,\n",
    "#или также заново нормализовывать данные для прогноза\n",
    "data_all['w_snow_fall'] = np.array(data_all['w_snow_fall']) /np.array(data_all['w_snow_fall']).max().astype(float)\n",
    "data_all['w_precip'   ] = np.array(data_all['w_precip'   ]) /np.array(data_all['w_precip'   ]).max().astype(float)\n",
    "data_all['w_avg_temp' ] = np.array(data_all['w_avg_temp' ]) /np.array(data_all['w_avg_temp' ]).max().astype(float)"
   ]
  },
  {
   "cell_type": "markdown",
   "metadata": {},
   "source": [
    "__Формируем дополнительные признаки для учета недельной сезонности__"
   ]
  },
  {
   "cell_type": "markdown",
   "metadata": {},
   "source": [
    "$s_i = \\sin \\left( [1,\\dots,T] * 2 \\pi i/ 168 \\right), c_i = \\cos \\left( [1,\\dots,T] * 2 \\pi i/ 168 \\right), i=1,\\dots, K.$\n",
    "\n",
    "В __Задании 3__ был проанализированы разные значения $K$ и было принято решения взять __$K$__=__6__  "
   ]
  },
  {
   "cell_type": "code",
   "execution_count": 23,
   "metadata": {
    "collapsed": true
   },
   "outputs": [],
   "source": [
    "lr_K    = 6 #6 - оптимальное значение числа признаков, как было выяснено в Задании 3\n",
    "lr_cols = []\n",
    "for i in range(1,lr_K+1):\n",
    "    lr_cols.append('s'+str(i))\n",
    "    lr_cols.append('c'+str(i))\n",
    "\n",
    "rows_range = np.arange(1, len(data_all)+1)\n",
    "for i in range(1,lr_K+1):\n",
    "    data_all['s'+str(i)] = sin(rows_range*2*math.pi*i/168.0)\n",
    "    data_all['c'+str(i)] = cos(rows_range*2*math.pi*i/168.0)\n",
    "\n",
    "#Добавим столбцы, которые нам потом понадобятся\n",
    "for col in ['lr_trips', 'lr_resid', 'lr_resid_diff24', 'lr_resid_diff24_1',\n",
    "            'pred_trips0', 'pred_trips', 'pred_resid']: data_all[col] = 0"
   ]
  },
  {
   "cell_type": "markdown",
   "metadata": {},
   "source": [
    "__Загружаем данные кластеризации__ (выполнена ранее, файл \"Part1_Clustering\")"
   ]
  },
  {
   "cell_type": "code",
   "execution_count": 24,
   "metadata": {
    "collapsed": true,
    "scrolled": false
   },
   "outputs": [],
   "source": [
    "reg_clust_all = pd.read_csv(w4_fname+'_reg_clust.csv', sep=',') #считаем из файлоа\n",
    "reg_clust_one = reg_clust_all[reg_clust_all.one==1].sort_values(by='label').reset_index(drop=True)[['label','region']]\n",
    "#проставим номер кластера в данных о поездках для обучения и в данных с тестовой частью\n",
    "data_all['one_clust'] = np.array(data_all.merge(reg_clust_one, how ='left', on = ['region']).label.fillna(0), int)\n",
    "data_all['reg_clust'] = np.array(data_all.merge(reg_clust_all, how ='left', on = ['region']).label.fillna(0), int)\n",
    "#кластеры для списке регионов\n",
    "data_reg['reg_clust'] = np.array(data_reg.merge(reg_clust_all, how ='left', on = ['region']).label.fillna(0), int)\n",
    "data_reg['one_clust'] = np.array(data_reg.merge(reg_clust_one, how ='left', on = ['region']).label.fillna(0), int)"
   ]
  },
  {
   "cell_type": "code",
   "execution_count": 25,
   "metadata": {
    "collapsed": true
   },
   "outputs": [],
   "source": [
    "#Формируем структуры для параметров модели и загружаем данные__</center>\n",
    "clust_list = list(sorted(data_reg.reg_clust.unique()))\n",
    "\n",
    "cNF_cols     = ['cN','cF', 'cNF']\n",
    "prmsPDQ_cols = ['cN', 'p', 'd', 'q', 'P', 'D', 'Q', 'done', 'aic', 'time', 'expect', 'exp_time', 'exp_aic']\n",
    "fitPDQ_cols  = ['cN', 'p', 'd', 'q', 'P', 'D', 'Q', 'done', 'aic', 'time', 'expect', 'exp_time', 'exp_aic', 'L']\n",
    "modPrms_cols = ['cN','cF','cNF', 'prm_name','prm_value']\n",
    "predH6_cols  = ['cN','cF','cNF', 'region', 'num', 'dt_start', 'done', 'time', 'H1','H2','H3','H4','H5','H6']\n",
    "pred_cols    = ['cN','cF','cNF', 'region', 'num', 'dt_start', 'done', 'time', 'hour_num',\n",
    "                'pred_trips0', 'dt_hour', 'pred_trips', 'real_trips', 'delta_trips', 'delta_trips_abs']\n",
    "reg_cols     = ['region','reg_clust','one_clust', 'done', 'Q']\n",
    "answer_cols  = cNF_cols + ['answer_id','answer_trips']\n",
    "\n",
    "prmsPDQ  = pd.DataFrame(columns = prmsPDQ_cols)\n",
    "fitPDQ   = pd.DataFrame(columns = fitPDQ_cols)\n",
    "modPrms  = pd.DataFrame(columns = modPrms_cols)\n",
    "predH6   = pd.DataFrame(columns = predH6_cols)\n",
    "pred     = pd.DataFrame(columns = pred_cols)\n",
    "reg      = pd.DataFrame(columns = reg_cols)\n",
    "answer   = pd.DataFrame(columns = answer_cols)"
   ]
  },
  {
   "cell_type": "code",
   "execution_count": 27,
   "metadata": {
    "collapsed": false
   },
   "outputs": [],
   "source": [
    "# Загружаем уже рассчитанные ранее данные и выбранные параметры модели\n",
    "for cNi in clust_list[:]:\n",
    "   \n",
    "    f_prmsPDQ  = w4_fname+'_c'+str(cNi) +'_prmsPDQ'   #подбор параметров (только для первого фолдера)\n",
    "    if os.path.exists(f_prmsPDQ) == True:\n",
    "        tmp_prmsPDQ = pd.read_csv(f_prmsPDQ, sep=',') #из отдельных файлов\n",
    "        prmsPDQ = pd.concat([prmsPDQ, tmp_prmsPDQ])   #prmsPDQ.drop_duplicates(inplace=True) #если загрузили два раза случайно\n",
    "\n",
    "    f_fitPDQ  = w4_fname+'_c'+str(cNi) +'_fitPDQ' #подбор параметров (только для первого фолдера)\n",
    "    if os.path.exists(f_fitPDQ) == True:\n",
    "        tmp_fitPDQ = pd.read_csv(f_fitPDQ, sep=',') #из отдельных файлов\n",
    "        tmp_fitPDQ['L'] = 24 \n",
    "        fitPDQ = pd.concat([fitPDQ, tmp_fitPDQ])   #prmsPDQ.drop_duplicates(inplace=True) #если загрузили два раза случайно\n",
    "\n",
    "    #два фолдера\n",
    "    for cFi in range(1,3):\n",
    "\n",
    "        cNFi = cpX(cNi, cFi)\n",
    "\n",
    "        modPrms_fname = w4_fname+'_c'+str(cNFi)+'_mod_prms' #параметры обученной модели\n",
    "        if os.path.exists(modPrms_fname) == True:\n",
    "            tmp_Prms = pd.read_csv(modPrms_fname, sep=',', header=None)\n",
    "            tmp_Prms.columns = ['prm_name', 'prm_value']\n",
    "            tmp_Prms['cN']  = cNi\n",
    "            tmp_Prms['cF']  = cFi\n",
    "            tmp_Prms['cNF'] = cNFi\n",
    "            modPrms = pd.concat([modPrms, tmp_Prms])\n",
    "        else: print 'no file \"' + modPrms_fname + '\"'\n",
    "\n",
    "        predH6_fname = w4_fname+'_c'+str(cNFi)+'_pred_h6'  #предсказанные данные в формате столбцов\n",
    "        if os.path.exists(predH6_fname) == True:\n",
    "            tmp_predH6 = pd.read_csv(predH6_fname, sep=',', parse_dates=['dt_start'])\n",
    "            predH6 = pd.concat([predH6, tmp_predH6])\n",
    "        else: print 'no file \"' + predH6_fname + '\"'\n",
    "\n",
    "        pred_fname = w4_fname+'_c'+str(cNFi)+'_pred.csv' #предсказанные данные, разложенные по датам\n",
    "        if os.path.exists(pred_fname) == True:\n",
    "            tmp_pred = pd.read_csv(pred_fname, sep=',', parse_dates=['dt_start', 'dt_hour']) \n",
    "            tmp_pred['cN']  = cNi\n",
    "            tmp_pred['cF']  = cFi\n",
    "            tmp_pred['cNF'] = cNFi\n",
    "            pred = pd.concat([pred, tmp_pred])\n",
    "        else: print 'no file \"' + pred_fname + '\"'\n",
    "\n",
    "        reg_fname = w4_fname+'_c'+str(cNFi)+'_reg.csv'\n",
    "        if os.path.exists(reg_fname) == True:\n",
    "            tmp_reg = pd.read_csv(reg_fname, sep=',')  #регионы, их кластеры, качество предсказания\n",
    "            reg = pd.concat([reg, tmp_reg])\n",
    "        else: print 'no file \"' + reg_fname + '\"'\n",
    "\n",
    "        answer_fname = w4_fname+'_c'+str(cNFi)+'_answer.csv' #ответы (столбцы cN, cF, cFN для загрузки ответа не нужны)\n",
    "        if os.path.exists(answer_fname) == True:\n",
    "            tmp_answer = pd.read_csv(answer_fname, sep=',', header=None) \n",
    "            tmp_answer.columns = ['answer_id','answer_trips']\n",
    "            tmp_answer['cN']  = cNi\n",
    "            tmp_answer['cF']  = cFi\n",
    "            tmp_answer['cNF'] = cNFi\n",
    "            answer = pd.concat([answer, tmp_answer])\n",
    "        else: print 'no file \"' + answer_fname + '\"'\n",
    "\n",
    "prmsPDQ = prmsPDQ[prmsPDQ_cols]\n",
    "for c in ['cN', 'p', 'd', 'q', 'P', 'D', 'Q', 'done']: prmsPDQ[c] = prmsPDQ[c].astype(int)\n",
    "fitPDQ = fitPDQ[fitPDQ_cols]\n",
    "for c in ['cN', 'p', 'd', 'q', 'P', 'D', 'Q', 'done', 'L']: fitPDQ[c] = fitPDQ[c].astype(int)\n",
    "modPrms = modPrms[modPrms_cols]\n",
    "for c in cNF_cols: modPrms[c] = modPrms[c].astype(int)\n",
    "predH6 = predH6[predH6_cols]\n",
    "for c in cNF_cols+['region','done','num']: predH6[c] = predH6[c].astype(int)\n",
    "pred = pred[pred_cols]\n",
    "for c in cNF_cols+['region','done','num']: pred[c] = pred[c].astype(int)\n",
    "reg = reg[reg_cols]\n",
    "for c in ['region','reg_clust','one_clust','done']: reg[c] = reg[c].astype(int)\n",
    "    \n",
    "answer = answer[answer_cols]\n",
    "for c in cNF_cols+['answer_trips']: answer[c] = answer[c].astype(int)"
   ]
  },
  {
   "cell_type": "markdown",
   "metadata": {},
   "source": [
    "<center>__ПРОГНОЗ__</center>"
   ]
  },
  {
   "cell_type": "markdown",
   "metadata": {},
   "source": [
    "__ПРИНЦИП:__\n",
    "Всегда обучаем одну модель для одного набора данных (Кластер + Фолд 1/Фолд2). Результаты обучения записываем в файл. Финальный разбор полетов проводим отдельно, загружая все файлы в единую структуру"
   ]
  },
  {
   "cell_type": "markdown",
   "metadata": {},
   "source": [
    "Задаем нужные параметры: __cN__ - номер кластера, __cF__ - номер фолда, выполням расчет (много часов, с перерывами), меняем параметры и опять запускаем расчет, так 10 раз, для 5 кластеров по два фолда.   \n",
    "Нужно было бы автоматизировать выбор и кластера и фолда из списка необработанных, но \"руки не дошли\"."
   ]
  },
  {
   "cell_type": "markdown",
   "metadata": {},
   "source": [
    "__Фолд 1__ Для каждой из  $R$  географических зон настройте на данных __до апреля 2016 включительно__ модель ARIMA с гиперпараметрами, соответствующими кластеру этой зоны. Для каждого конца истории от 2016.04.30 23:00 до 2016.05.31 17:00 постройте прогноз на 6 часов вперёд.\n",
    "__Фолд 2__ Для каждой из $R$ географических зон настройте на данных __до мая 2016 включительно__ модель ARIMA с гиперпараметрами, соответствующими кластеру этой зоны. Для каждого конца истории от 2016.05.31 23:00 до 2016.06.30 17:00 постройте прогноз на 6 часов вперёд."
   ]
  },
  {
   "cell_type": "code",
   "execution_count": 21,
   "metadata": {
    "collapsed": false
   },
   "outputs": [
    {
     "name": "stdout",
     "output_type": "stream",
     "text": [
      "cN 5, cF 1, cNF 51, диапазон 2016-04-30 23:00:00-2016-05-31 17:00:00\n"
     ]
    }
   ],
   "source": [
    "cN  = 5          #номер кластера\n",
    "cF  = 1          #номер фолдера (набора данных для пронозирования)\n",
    "cNF = cpX(cN,cF) #номер кластера + Номер фолда\n",
    "if cF == 1:      #даты для прогноза разных Фолдов\n",
    "    cpred_beg = pd.datetime(2016,4,30, 23, 0) #начальная дата прогноза (Фолд 1)\n",
    "    cpred_end = pd.datetime(2016,5,31, 17, 0) #конечная дата прогноза  (Фолд 1)\n",
    "else: \n",
    "    cpred_beg = pd.datetime(2016,5,31, 23, 0) #начальная дата прогноза  (Фолд 2)\n",
    "    cpred_end = pd.datetime(2016,6,30, 17, 0) #конечная дата прогноза   (Фолд 2)\n",
    "\n",
    "print 'cN {}, cF {}, cNF {}, диапазон {}-{}'.format(cN, cF, cNF, cpred_beg, cpred_end)"
   ]
  },
  {
   "cell_type": "markdown",
   "metadata": {},
   "source": [
    "__Надо переписывать на унифицированную структуру с одним файлом на кластер__"
   ]
  },
  {
   "cell_type": "code",
   "execution_count": 22,
   "metadata": {
    "collapsed": true
   },
   "outputs": [],
   "source": [
    "#Все по ВСЕМ датам и по ВСЕМ регионам\n",
    "cXall = data_all[data_all.reg_clust == cN]\n",
    "#Данные ОДНОГО региона и ОДНОГО фолдера\n",
    "cX    = data_all[(data_all.one_clust == cN) & (data_all.fold <> 0) & (data_all.fold <= cF)]\n",
    "#Все районы кластера "
   ]
  },
  {
   "cell_type": "code",
   "execution_count": 23,
   "metadata": {
    "collapsed": true
   },
   "outputs": [],
   "source": [
    "#копируем данные, потом будем вставлять обратно\n",
    "cXreg    = data_reg[data_reg.reg_clust == cN].copy().reset_index()\n",
    "cXpredH6 = predH6[predH6.cNF == cNF].copy().reset_index()"
   ]
  },
  {
   "cell_type": "markdown",
   "metadata": {},
   "source": [
    "__Считываем параметры, подобранные для данного Кластера и Фолда__"
   ]
  },
  {
   "cell_type": "code",
   "execution_count": 24,
   "metadata": {
    "collapsed": true,
    "scrolled": true
   },
   "outputs": [],
   "source": [
    "if fitPDQ[fitPDQ.cN==cN].shape[0] > 0:\n",
    "    cPDQ = fitPDQ[fitPDQ.cN==cN][['p','d','q','P','D','Q','L']].astype(int).to_dict(orient='index').values()[0]\n",
    "else: print 'нет данных по кластеру ', cN"
   ]
  },
  {
   "cell_type": "code",
   "execution_count": 25,
   "metadata": {
    "collapsed": false,
    "scrolled": false
   },
   "outputs": [
    {
     "name": "stdout",
     "output_type": "stream",
     "text": [
      "51 {'Q': 0, 'd': 0, 'P': 2, 'L': 24, 'q': 0, 'p': 11, 'D': 1}\n"
     ]
    }
   ],
   "source": [
    "print cNF, cPDQ"
   ]
  },
  {
   "cell_type": "code",
   "execution_count": 26,
   "metadata": {
    "collapsed": false
   },
   "outputs": [
    {
     "name": "stdout",
     "output_type": "stream",
     "text": [
      "Загружаем данные Кластер_Фолд 51\n"
     ]
    }
   ],
   "source": [
    "if modPrms[modPrms.cNF==cNF].shape[0] > 0: \n",
    "    cload = True\n",
    "    print 'Загружаем данные Кластер_Фолд', cNF\n",
    "else: cload = False"
   ]
  },
  {
   "cell_type": "code",
   "execution_count": 27,
   "metadata": {
    "collapsed": true
   },
   "outputs": [],
   "source": [
    "cmod_fname     = w4_fname+'_c'+str(cNF)+'_mod'          #модель\n",
    "cmodPrms_fname = w4_fname+'_c'+str(cNF)+'_mod_prms'     #параметры обученной модели\n",
    "cpredH6_fname  = w4_fname+'_c'+str(cNF)+'_pred_h6'      #предсказанные данные в формате столбцов\n",
    "cpred_fname    = w4_fname+'_c'+str(cNF)+'_pred.csv'     #предсказанные данные, разложенные по датам\n",
    "creg_fname     = w4_fname+'_c'+str(cNF)+'_reg.csv'      #регионы, их кластеры, качество предсказания\n",
    "cansw_fname    = w4_fname+'_c'+str(cNF)+'_answer.csv'   #ответы (столбцы cN, cF, cFN для загрузки ответа не нужны)"
   ]
  },
  {
   "cell_type": "markdown",
   "metadata": {},
   "source": [
    "Обучаем модель __для выбранного Фолда__ (или считываем уже готовую)"
   ]
  },
  {
   "cell_type": "code",
   "execution_count": 28,
   "metadata": {
    "collapsed": false
   },
   "outputs": [
    {
     "name": "stdout",
     "output_type": "stream",
     "text": [
      "Загружаем данные Кластер_Фолд 51\n"
     ]
    }
   ],
   "source": [
    "if os.path.exists(cmodPrms_fname) == True:\n",
    "    cload = True\n",
    "    print 'Загружаем данные Кластер_Фолд', cNF\n",
    "else: cload = False"
   ]
  },
  {
   "cell_type": "code",
   "execution_count": 128,
   "metadata": {
    "collapsed": false
   },
   "outputs": [
    {
     "name": "stdout",
     "output_type": "stream",
     "text": [
      "Wall time: 2 ms\n"
     ]
    }
   ],
   "source": [
    "%%time\n",
    "cmod = ARIMAResults                                  #SARIMAX для предсказания\n",
    "\n",
    "cload = True\n",
    "if cload == False: #Создаем и обучаем модель для данного Кластера и Фолда\n",
    "    caic, cmod = fit_sarimax(cX, cPDQ['p'], cPDQ['d'], cPDQ['q'], cPDQ['P'], cPDQ['D'], cPDQ['Q'], LAG=24, trend='n')  \n",
    "    cmod.params.to_csv(cmodPrms_fname)  #сохраняем параметры модели\n",
    "    cmod_params = cmod.params           #для удобства скидываем параметры в локальную переменную\n",
    "else: #Или Загружаем уже обученную модель из файла\n",
    "    caic        = 0                                #не записываем AIC в файлы\n",
    "    cmod        = ARIMAResults                     #SARIMAX для прогноза\n",
    "    cmod_params = pd.Series(index = modPrms[modPrms.cNF==cNF].prm_name, \n",
    "                            data  = np.array(modPrms[modPrms.cNF==cNF].prm_value))\n",
    "    cmod_params.index.name = ''              #сбрасываем имя индекса\n",
    "    cmod_params = cmod_params.T.squeeze()    #преобразуем DataFrame в Series (модель только так принимает)    "
   ]
  },
  {
   "cell_type": "code",
   "execution_count": 40,
   "metadata": {
    "collapsed": false
   },
   "outputs": [
    {
     "name": "stdout",
     "output_type": "stream",
     "text": [
      "order (11,0,0) seasonal (2,1,0,24)\n"
     ]
    }
   ],
   "source": [
    "# Посмотрим на параметры\n",
    "print 'order ({},{},{})'.format(cPDQ['p'],cPDQ['d'],cPDQ['q']), \n",
    "print 'seasonal ({},{},{},{})'.format(cPDQ['P'],cPDQ['D'],cPDQ['Q'],cPDQ['L'])"
   ]
  },
  {
   "cell_type": "code",
   "execution_count": 30,
   "metadata": {
    "collapsed": true,
    "scrolled": false
   },
   "outputs": [],
   "source": [
    "#Проставим признак обработанных данных\n",
    "cXreg['done'] = 0 \n",
    "cXreg.loc[cXreg.region.isin(np.unique(cXpredH6.region)), 'done'] = 1"
   ]
  },
  {
   "cell_type": "code",
   "execution_count": 133,
   "metadata": {
    "collapsed": false,
    "scrolled": false
   },
   "outputs": [
    {
     "name": "stdout",
     "output_type": "stream",
     "text": [
      "Приблизительно 15 минут один район, т.к. весь кластер около 6.75 ч.\n"
     ]
    }
   ],
   "source": [
    "print 'Приблизительно 15 минут один район, т.к. весь кластер около {} ч.'.format(cXreg.shape[0]*15 /60.)"
   ]
  },
  {
   "cell_type": "markdown",
   "metadata": {},
   "source": [
    "__Строим прогноз Кластера по Всем районам__"
   ]
  },
  {
   "cell_type": "code",
   "execution_count": 31,
   "metadata": {
    "collapsed": false,
    "scrolled": true
   },
   "outputs": [
    {
     "data": {
      "text/plain": [
       "done\n",
       "1    27\n",
       "dtype: int64"
      ]
     },
     "execution_count": 31,
     "metadata": {},
     "output_type": "execute_result"
    }
   ],
   "source": [
    "cXreg.groupby(['done'], as_index=False).done.size() #посмотрим, сколько уже спрогнозировано, и сколько осталось"
   ]
  },
  {
   "cell_type": "markdown",
   "metadata": {},
   "source": [
    "По завершении прогноза должно быть __только__ строка с __done=1__"
   ]
  },
  {
   "cell_type": "code",
   "execution_count": 42,
   "metadata": {
    "collapsed": true
   },
   "outputs": [],
   "source": [
    "%%time\n",
    "\n",
    "reg_count = 6 #количество районов (т.к. считается долго, ставим немного, 4 района - где-то час)\n",
    "step      = 0\n",
    "wall_len  = 0\n",
    "\n",
    "for i, r in cXreg[(cXreg.done==0)].sort_values(by=['region'])[:reg_count].iterrows(): #перебираем районы \n",
    "    step += 1\n",
    "   \n",
    "    cRegNum  = int(r.region)                  #очередной район\n",
    "    cXallReg = cXall[cXall.region==cRegNum]   #и его данные\n",
    "   \n",
    "    t = ti.default_timer()                    #старт прогнозирования района\n",
    "   \n",
    "   \n",
    "    cpredH6 = get_sarimax_predH6(m_cNF=cNF, m_RegNum=cRegNum, #m_count=1000,  #всего около 15 минут на район\n",
    "        m_mod_params = cmod_params, m_PDQ = cPDQ, m_dt_all = cXallReg, date_beg=cpred_beg, date_end=cpred_end,\n",
    "        say_each=100) \n",
    "\n",
    "    #удаляем прежние результаты (если они были) \n",
    "    cXpredH6.drop(cXpredH6[cXpredH6.region==cRegNum].index, axis=0, inplace=True, errors='ignore') \n",
    "    \n",
    "    cXpredH6 = pd.concat([cXpredH6, cpredH6])            #подстыковываем новые данные\n",
    "    \n",
    "    cXpredH6.to_csv(cpredH6_fname, index=False)         #сохраняем резульаты прогноза (ВСЕ районы)\n",
    "    \n",
    "    cXreg.loc[(cXreg.region == cRegNum), 'done'] = 1    #ставим флаг выполнения прогноза по району    \n",
    "    \n",
    "    t1 = ti.default_timer()         #завершение прогнозирования района\n",
    "\n",
    "    step_len  = round((t1-t)/60.,2) #длительность прогнозирования района\n",
    "    wall_len += step_len            #суммарная длительность прогнозирования\n",
    "\n",
    "print 'Прогнозирование завершено за {:.2f}м.'.format(wall_len)"
   ]
  },
  {
   "cell_type": "code",
   "execution_count": 32,
   "metadata": {
    "collapsed": false,
    "scrolled": true
   },
   "outputs": [
    {
     "data": {
      "text/html": [
       "<div>\n",
       "<style scoped>\n",
       "    .dataframe tbody tr th:only-of-type {\n",
       "        vertical-align: middle;\n",
       "    }\n",
       "\n",
       "    .dataframe tbody tr th {\n",
       "        vertical-align: top;\n",
       "    }\n",
       "\n",
       "    .dataframe thead th {\n",
       "        text-align: right;\n",
       "    }\n",
       "</style>\n",
       "<table border=\"1\" class=\"dataframe\">\n",
       "  <thead>\n",
       "    <tr style=\"text-align: right;\">\n",
       "      <th></th>\n",
       "      <th>index</th>\n",
       "      <th>cN</th>\n",
       "      <th>cF</th>\n",
       "      <th>cNF</th>\n",
       "      <th>region</th>\n",
       "      <th>num</th>\n",
       "      <th>dt_start</th>\n",
       "      <th>done</th>\n",
       "      <th>time</th>\n",
       "      <th>H1</th>\n",
       "      <th>H2</th>\n",
       "      <th>H3</th>\n",
       "      <th>H4</th>\n",
       "      <th>H5</th>\n",
       "      <th>H6</th>\n",
       "    </tr>\n",
       "  </thead>\n",
       "  <tbody>\n",
       "    <tr>\n",
       "      <th>0</th>\n",
       "      <td>0</td>\n",
       "      <td>5</td>\n",
       "      <td>1</td>\n",
       "      <td>51</td>\n",
       "      <td>1076</td>\n",
       "      <td>0</td>\n",
       "      <td>2016-04-30 23:00:00</td>\n",
       "      <td>1</td>\n",
       "      <td>0.01</td>\n",
       "      <td>75.069356</td>\n",
       "      <td>53.318778</td>\n",
       "      <td>44.815548</td>\n",
       "      <td>36.089163</td>\n",
       "      <td>13.585407</td>\n",
       "      <td>23.376581</td>\n",
       "    </tr>\n",
       "    <tr>\n",
       "      <th>1</th>\n",
       "      <td>1</td>\n",
       "      <td>5</td>\n",
       "      <td>1</td>\n",
       "      <td>51</td>\n",
       "      <td>1076</td>\n",
       "      <td>1</td>\n",
       "      <td>2016-05-01 00:00:00</td>\n",
       "      <td>1</td>\n",
       "      <td>0.01</td>\n",
       "      <td>49.450868</td>\n",
       "      <td>43.471132</td>\n",
       "      <td>36.238097</td>\n",
       "      <td>14.071624</td>\n",
       "      <td>24.119450</td>\n",
       "      <td>53.237601</td>\n",
       "    </tr>\n",
       "  </tbody>\n",
       "</table>\n",
       "</div>"
      ],
      "text/plain": [
       "   index  cN  cF  cNF  region  num            dt_start  done  time         H1  \\\n",
       "0      0   5   1   51    1076    0 2016-04-30 23:00:00     1  0.01  75.069356   \n",
       "1      1   5   1   51    1076    1 2016-05-01 00:00:00     1  0.01  49.450868   \n",
       "\n",
       "          H2         H3         H4         H5         H6  \n",
       "0  53.318778  44.815548  36.089163  13.585407  23.376581  \n",
       "1  43.471132  36.238097  14.071624  24.119450  53.237601  "
      ]
     },
     "execution_count": 32,
     "metadata": {},
     "output_type": "execute_result"
    }
   ],
   "source": [
    "cXpredH6.head(2)"
   ]
  },
  {
   "cell_type": "code",
   "execution_count": 136,
   "metadata": {
    "collapsed": true
   },
   "outputs": [],
   "source": [
    "cXpredH6.drop('index', axis=1, inplace=True) #удаляем индекс, он нам не нужен"
   ]
  },
  {
   "cell_type": "code",
   "execution_count": 33,
   "metadata": {
    "collapsed": false
   },
   "outputs": [
    {
     "data": {
      "text/plain": [
       "array([1076, 1077, 1132, 1181, 1183, 1184, 1234, 1235, 1279, 1280, 1283,\n",
       "       1284, 1285, 1286, 1287, 1331, 1332, 1333, 1334, 1335, 1336, 1337,\n",
       "       1383, 1384, 1385, 1386, 1434], dtype=int64)"
      ]
     },
     "execution_count": 33,
     "metadata": {},
     "output_type": "execute_result"
    }
   ],
   "source": [
    "cXpredH6.region.unique() #спрогнозированные районы"
   ]
  },
  {
   "cell_type": "markdown",
   "metadata": {},
   "source": [
    "__Теперь надо преобразовать данные, записать их в файл и посчитать метрику__"
   ]
  },
  {
   "cell_type": "code",
   "execution_count": 36,
   "metadata": {
    "collapsed": true
   },
   "outputs": [],
   "source": [
    "cXpred = get_XpredOnH6(cXpredH6) #Разворачивает таблицу, чтобы значения я предсказанных данных попали из столбцов в строки"
   ]
  },
  {
   "cell_type": "code",
   "execution_count": 37,
   "metadata": {
    "collapsed": true
   },
   "outputs": [],
   "source": [
    "#Сформируем данные о реальных поездках в прогнозируемый период в разрезе каждого Региона и Конца истории (dt_start)\n",
    "cXpredReal = pd.merge(cXpred[['dt_start','dt_hour','region']], cXall[['dt_hour','region','trips']],\n",
    "         how='inner', on=['dt_hour','region']).sort_values(by=['dt_hour'])[['dt_start','dt_hour','region', 'trips']]\n",
    "#Присоединим данные о реальных поездках к каждому концу истории и дате в рамках него\n",
    "cXpred['real_trips']      = pd.merge(cXpred, cXpredReal, how='inner', on=['dt_start','dt_hour','region'])['trips']\n",
    "cXpred['delta_trips']     = cXpred['pred_trips'] - cXpred['real_trips']\n",
    "cXpred['delta_trips_abs'] = cXpred['delta_trips'].abs()"
   ]
  },
  {
   "cell_type": "code",
   "execution_count": 70,
   "metadata": {
    "collapsed": true,
    "scrolled": false
   },
   "outputs": [],
   "source": [
    "cXpred.to_csv(cpred_fname, index=False) #сохраним в файле"
   ]
  },
  {
   "cell_type": "code",
   "execution_count": 39,
   "metadata": {
    "collapsed": false,
    "scrolled": false
   },
   "outputs": [
    {
     "data": {
      "text/plain": [
       "<matplotlib.axes._subplots.AxesSubplot at 0x252b6b70>"
      ]
     },
     "execution_count": 39,
     "metadata": {},
     "output_type": "execute_result"
    },
    {
     "data": {
      "image/png": "[encoded data removed]",
      "text/plain": [
       "<Figure size 720x216 with 1 Axes>"
      ]
     },
     "metadata": {},
     "output_type": "display_data"
    }
   ],
   "source": [
    "plt.figure(figsize=(10,3))\n",
    "cXpred.delta_trips.plot(kind='kde', title=u'Плотность распределения ошибки предсказания Кластер_Фолд '+str(cNF))"
   ]
  },
  {
   "cell_type": "markdown",
   "metadata": {},
   "source": [
    "Посчитайте в ноутбуке ошибку прогноза по следующему функционалу:\n",
    "$Q_{may} =\\frac1{R* 739* 6} \\sum\\limits_{r=1}^{R} \\sum_{T=2016.04.30\\,23:00}^{2016.05.31\\,17:00} \\sum_{i=1}^6 \\left| \\hat{y}^r_{T|T+i} - y_{T+i}^r \\right|.$  \n"
   ]
  },
  {
   "cell_type": "code",
   "execution_count": 41,
   "metadata": {
    "collapsed": true
   },
   "outputs": [],
   "source": [
    "# Разложим метрику по районам (теоретически можно анализировать зависимость Q по дальности района до ценра кластера)\n",
    "cXreg.loc[:, 'Q'] = 0.0\n",
    "cXpred.loc[:, 'region'] = cXpred.region.astype(int, inplace=True)\n",
    "\n",
    "cXregQ = cXpred.groupby('region', as_index=False).delta_trips_abs.sum()\n",
    "cXregQ['region'] = cXregQ.region.astype(int)\n",
    "if cF==1:\n",
    "    cXregQ['pred_Q'] = cXregQ.delta_trips_abs/(739.*6.) #для первого фолда 739 значений на район\n",
    "else: \n",
    "    cXregQ['pred_Q'] = cXregQ.delta_trips_abs/(715.*6.) #для первого фолда 715 значений на район\n",
    "\n",
    "cXreg = cXreg.reset_index(drop=True)\n",
    "cXreg.loc[:, 'Q'] = pd.merge(cXreg, cXregQ, how='left', on=['region']).pred_Q.fillna(0)"
   ]
  },
  {
   "cell_type": "code",
   "execution_count": 79,
   "metadata": {
    "collapsed": true
   },
   "outputs": [],
   "source": [
    "cXreg.to_csv(creg_fname, index=False) #сохраним в файле"
   ]
  },
  {
   "cell_type": "code",
   "execution_count": 141,
   "metadata": {
    "collapsed": true
   },
   "outputs": [],
   "source": [
    "cQ = sum(cXreg.Q)/(cXreg[cXreg.done==1].shape[0])"
   ]
  },
  {
   "cell_type": "code",
   "execution_count": 111,
   "metadata": {
    "collapsed": false
   },
   "outputs": [
    {
     "name": "stdout",
     "output_type": "stream",
     "text": [
      "Метрика Q (Кластер 4, Фолд 1): 30.57\n"
     ]
    }
   ],
   "source": [
    "print 'Метрика Q (Кластер {}, Фолд {}): {:.2f}'.format(cN, cF, cQ)"
   ]
  },
  {
   "cell_type": "markdown",
   "metadata": {},
   "source": [
    "После перебора всех кластеров и фолдов и сохранения параметров в файлы переходим\n",
    "на файл __Part4_Final__"
   ]
  },
  {
   "cell_type": "code",
   "execution_count": null,
   "metadata": {
    "collapsed": true
   },
   "outputs": [],
   "source": []
  },
  {
   "cell_type": "markdown",
   "metadata": {
    "collapsed": true
   },
   "source": [
    "__Блок определения пользовательских функций__"
   ]
  },
  {
   "cell_type": "code",
   "execution_count": 17,
   "metadata": {
    "collapsed": true
   },
   "outputs": [],
   "source": [
    "#Получает датасет с набором дат для предсказания, выполняет предсказание и сохраняет результыт в файл\n",
    "def get_XpredOnH6(m_predH6m):\n",
    "    #Разворачиваем таблицу, чтобы значения я предсказанных данных попали из столбцов (так было легче сохранять в файл) в строки\n",
    "    m_Xpred = pd.melt(m_predH6m.reset_index(), \n",
    "            id_vars    = ['dt_start','cN', 'cF','cNF', 'region', 'num', 'done', 'time'], \n",
    "            value_vars = ['H1','H2','H3','H4','H5','H6'],\n",
    "            var_name   = 'hour_num', \n",
    "            value_name = 'pred_trips0').sort_values(by=['dt_start','hour_num']).reset_index(drop=True)\n",
    "    #Преобразуем значение Hx в столбце hour_num в количество частов смещения hour_num.apply(lambda x:x[-1:]), \n",
    "    #а затем в реальную дату\n",
    "    m_Xpred['dt_hour']    = m_Xpred.dt_start + m_Xpred.hour_num.apply(lambda x:pd.Timedelta(hours=int(x[-1:])))\n",
    "    m_Xpred['pred_trips'] = m_Xpred.pred_trips0.round(0).astype(int) #округляем остатки\n",
    "    m_Xpred.loc[m_Xpred['pred_trips'] < 0 , 'pred_trips'] = 0        #и заменяем отрицательные значения на нули \n",
    "\n",
    "    return m_Xpred\n",
    "\n",
    "#Получает датасет с набором дат для предсказания, выполняет предсказание и сохраняет результыт в файл\n",
    "def get_sarimax_predH6(m_cNF, m_RegNum, m_mod_params, m_PDQ, m_dt_all, \n",
    "                       date_beg, date_end, verbose=True, say_each=None, conf_int=False):\n",
    "    m_step      = 0 \n",
    "    m_wall_len  = 0\n",
    "\n",
    "    m_H6 = pd.DataFrame(columns = ['dt_start'], data = pd.date_range(date_beg, date_end, freq='H')) #даты для прогноза\n",
    "    m_H6['num' ]   = m_H6.index           #индекс для перебора дат\n",
    "    m_H6['region'] = cRegNum              #район \n",
    "    m_H6['cNF']    = cNF                  #КластерФолд\n",
    "    m_H6['cN']     = int(str(m_cNF)[:1 ]) #Кластер\n",
    "    m_H6['cF']     = int(str(m_cNF)[-1:]) #Фолд\n",
    "\n",
    "    m_H6_count     = m_H6.shape[0]        #число записей для прогноза (одинаковое для всех кластеров, районов и фолдов)\n",
    "\n",
    "    #информация о начале расчета\n",
    "    if verbose == True: print u'Район {}, начало в {}, записей {}'.format(\n",
    "        m_RegNum, dt.datetime.now().strftime('%H:%M:%S'), m_H6_count)\n",
    "    \n",
    "    #модель для предсказания (на основе подобранных параметров для кластера)\n",
    "    m_model = sm.tsa.statespace.SARIMAX(m_dt_all.trips,\n",
    "                                        order=(m_PDQ['p'],m_PDQ['d'],m_PDQ['q']),\n",
    "                                        seasonal_order=(m_PDQ['P'],m_PDQ['D'],m_PDQ['Q'],m_PDQ['L']), \n",
    "                                        exog = m_dt_all[lr_cols]).filter(m_mod_params)\n",
    "\n",
    "    #информация об обучении модели\n",
    "    if verbose == True: print u'Модель настроена {}'.format(dt.datetime.now().strftime('%H:%M:%S'))\n",
    "\n",
    "    #перебираем прогнозируемые даты\n",
    "    for i, r in m_H6.sort_values(by=['num'], ascending=True).iterrows():\n",
    "\n",
    "        m_step += 1\n",
    "        m_t = ti.default_timer()                         #время начала\n",
    "       \n",
    "        m_time_beg = (r.dt_start + pd.Timedelta(hours=1)).to_pydatetime() \n",
    "        m_time_end = (r.dt_start + pd.Timedelta(hours=6)).to_pydatetime()\n",
    "        \n",
    "        #готовим внешние данные на для дополнительной регрессии в модели\n",
    "        m_exog0 = m_dt_all[lr_cols].loc[(m_dt_all.dt_hour>m_time_beg) & (m_dt_all.dt_hour<=m_time_end)] \n",
    "\n",
    "        #выполняем прогноз\n",
    "        if conf_int == True:\n",
    "            m_predict = m_model.get_prediction(start=str(m_time_beg), end=str(m_time_end), exog=m_exog0, dynamic=True)\n",
    "            m_predict_mean = m_predict.predicted_mean #получаем среднее значение (интервалы пока не считываем)\n",
    "        else:\n",
    "            m_predict_mean = m_model.predict(start=str(m_time_beg), end=str(m_time_end), exog=m_exog0, dynamic=True)\n",
    "        \n",
    "        m_step_len = round((ti.default_timer()-m_t)/60.,2) #длительность обучения\n",
    "        m_wall_len  += m_step_len                          #суммарная длительность обучения  \n",
    "\n",
    "        #сохраняем полученные значения\n",
    "        m_H6_index = m_H6[(m_H6.num==r.num)].index       #индекс текущей строки в общем наборе параметров\n",
    "        m_H6.loc[m_H6_index, 'done'] = 1                 #признак обработанной строки\n",
    "        m_H6.loc[m_H6_index, 'time'] = m_step_len        #сохраняем длительность выполнения\n",
    "        m_H6.loc[m_H6_index, 'H1']   = m_predict_mean[0] #проноз на 1 час   вперед\n",
    "        m_H6.loc[m_H6_index, 'H2']   = m_predict_mean[1] #проноз на 2 часа  вперед\n",
    "        m_H6.loc[m_H6_index, 'H3']   = m_predict_mean[2] #проноз на 3 часа  вперед\n",
    "        m_H6.loc[m_H6_index, 'H4']   = m_predict_mean[3] #проноз на 4 часа  вперед\n",
    "        m_H6.loc[m_H6_index, 'H5']   = m_predict_mean[4] #проноз на 5 часов вперед\n",
    "        m_H6.loc[m_H6_index, 'H6']   = m_predict_mean[5] #проноз на 6 часов вперед\n",
    "        \n",
    "        if verbose == True and (say_each == None or m_step % say_each == 0): \n",
    "            print u'{} ({}мин) '.format(m_step, m_wall_len), #m_step_len\n",
    "\n",
    "    #информация о завершении расчета\n",
    "    if verbose == True: print u'Район {}, завершение в {} ({:.2f}ч)'.format(\n",
    "        m_RegNum, dt.datetime.now().strftime('%H:%M:%S'), m_wall_len/60.)\n",
    "\n",
    "    #возвращаем данные\n",
    "    return m_H6\n",
    "\n",
    "\n",
    "def fit_sarimax(dt, p, d, q, P, D, Q, LAG=24, simple_diff=False, stationar=False, invert=False, trend=None):    \n",
    "\n",
    "    warnings.filterwarnings('ignore')\n",
    "\n",
    "    try: #try except нужен, потому что на некоторых наборах параметров модель не обучается\n",
    "\n",
    "        model=sm.tsa.statespace.SARIMAX(dt.trips.astype(float),\n",
    "                                        order=(p, d, q), \n",
    "                                        #в доп. признаках учтем погоду, хотя это кардинально и не помогло\n",
    "                                        exog                  = dt[lr_cols], # + weather_cols], \n",
    "                                        seasonal_order        = (P, D, Q, LAG),\n",
    "                                        simple_differencing   = simple_diff, \n",
    "                                        enforce_stationarity  = stationar, \n",
    "                                        enforce_invertibility = invert,\n",
    "                                        trend                 = trend \n",
    "                                       ).fit(disp=-1)\n",
    "\n",
    "    #выводим параметры, на которых модель не обучается и переходим к следующему набору         \n",
    "    except ValueError as e:\n",
    "        print 'wrong parameters:',  (p, d, q, P, D, Q), e\n",
    "        return (0, None) \n",
    "\n",
    "    warnings.filterwarnings('default')\n",
    "\n",
    "    return (model.aic, model) \n",
    "\n",
    "def cpX(m_cN, m_cP): return int(str(m_cN)+str(m_cP))    \n",
    "\n",
    "def print_time(label='now'):\n",
    "    print label, dt.datetime.now().strftime('%H:%M')\n",
    "    \n",
    "#Готовим данные и записываем их в файл (примерно 6 минут да 2016 год)\n",
    "def load_prepare_save_data(save_fname, month_count, reg_fname='regions.csv', \n",
    "                           cut_regLess5 = True, save_data=True, return_data=True):\n",
    "    \n",
    "    #Координаты квадрата Нью_Йорка\n",
    "    west_ny, east_ny, south_ny, north_ny  = -74.25559,-73.700018, 40.49612, 40.91553\n",
    "    \n",
    "    #Загружаем районы и получаем границы корзин\n",
    "    regs = pd.read_csv(reg_fname, sep=';') \n",
    "    binx  = sorted(set(regs.west.value_counts().index)  | set(regs.east.value_counts().index ))\n",
    "    biny  = sorted(set(regs.south.value_counts().index) | set(regs.north.value_counts().index))\n",
    "    \n",
    "    \n",
    "    # Составим список файлов для обработки\n",
    "    files = ['yellow_tripdata_2016-' + ('0'+str(x+1))[-2:] + '.csv' for x in range(month_count)]# [:1] для отладкаи 5\n",
    "\n",
    "    #Загрузим данные, ограничив их по району, количеству пассажиров и продолжительности поездки\n",
    "    data_cols = ['tpep_pickup_datetime','tpep_dropoff_datetime','passenger_count',\n",
    "                 'trip_distance','pickup_longitude','pickup_latitude'] \n",
    "\n",
    "    dfmon_list = []\n",
    "    for f in files:\n",
    "        print_time('read '+ f)\n",
    "        dfmon = pd.read_csv(f, sep=',', parse_dates=['tpep_pickup_datetime','tpep_dropoff_datetime'], usecols=data_cols) \n",
    "\n",
    "        del_index = dfmon[(dfmon.tpep_pickup_datetime == dfmon.tpep_dropoff_datetime) #Нулевая длительность\n",
    "                    | (dfmon['passenger_count' ] == 0)          # поездки с нулевым количеством пассажиров\n",
    "                    | (dfmon['trip_distance'   ] == 0)          # поездки с нулевым расстоянием поездки по счётчику\n",
    "                    | (dfmon['pickup_longitude'] <  west_ny)    # поездки, не попадающие в прямоугольник Нью-Йорка\n",
    "                    | (dfmon['pickup_longitude'] >= east_ny)    \n",
    "                    | (dfmon['pickup_latitude' ] <  south_ny)   \n",
    "                    | (dfmon['pickup_latitude' ] >= north_ny)  \n",
    "                         ].index\n",
    "\n",
    "        dfmon.drop(del_index, inplace=True)\n",
    "        dfmon['dt_hour'] = dfmon.tpep_pickup_datetime.dt.floor('H') #день и час (.dt.hour - только час)\n",
    "        #Разобъем данные на квадраты\n",
    "        r_bins = binned_statistic_2d(\n",
    "            x = dfmon.pickup_longitude, \n",
    "            y = dfmon.pickup_latitude, \n",
    "            values = None, \n",
    "            statistic = 'count', \n",
    "            bins      = [binx, biny],\n",
    "            range     = [[-74.25559, -73.70001], [40.49612, 40.91553]], expand_binnumbers = True)\n",
    "        # Вычислим номер региона\n",
    "        bin_regs = np.array([(x-1) * 50 + y for x, y in zip(*r_bins.binnumber)])\n",
    "        #print_time('set regs')\n",
    "        dfmon['region']  = bin_regs\n",
    "        #print_time('aggregate')\n",
    "        dfmon_agr = dfmon.groupby(['dt_hour', 'region'], as_index=False).pickup_longitude.count()\n",
    "        dfmon_agr.columns = ['dt_hour', 'region', 'trips']\n",
    "        dfmon_list.append(dfmon_agr)\n",
    "\n",
    "    data_trips = pd.concat(dfmon_list) #только совершенные поездки в регионах\n",
    "\n",
    "    #---- надо добавить нули для регионов и часов, в которых не было поездок\n",
    "\n",
    "    #все регионы\n",
    "    regions  = pd.DataFrame(regs.region, columns=['region'])\n",
    "    regions['key'] = 0 #для cross join в merge \n",
    "\n",
    "    #все дни и часы за весь период в данных\n",
    "    start_date  = data_trips.dt_hour.min() #дата начала данных\n",
    "    end_date    = data_trips.dt_hour.max() #дата окончания данных\n",
    "    dt_hours = pd.DataFrame(pd.date_range(start_date, end_date, freq='H').values, columns=['dt_hour'])\n",
    "    dt_hours['key'] = 0 #для cross join в merge \n",
    "\n",
    "    #все дни и часы для каждого региона (cross join)\n",
    "    data_hr = pd.merge(regions, dt_hours, how='outer')[['dt_hour','region']]\n",
    "\n",
    "    #добавим столбец с количеством поездок для каждой пары с помощью left join, заполнив NaN нулями\n",
    "    data_hr['trips'] = data_hr.merge(data_trips, how='left', on = ['dt_hour', 'region']).fillna(0).trips.astype(int)\n",
    "\n",
    "    #Подсчитываем среднее число поездок в час (по данным за май 2016, согласно 2-му заданию, оставляем 102 района)\n",
    "    if cut_regLess5 == True:\n",
    "        data_hr_mean = data_hr[(data_hr.dt_hour.dt.year==2016)&\n",
    "                               (data_hr.dt_hour.dt.month==5)].groupby('region', as_index=False)['trips'].mean()\n",
    "        regs_less5 = data_hr_mean[data_hr_mean.trips<5].region.values           #районы, где среднее число поездок меньше 5\n",
    "        data_hr.drop(data_hr[data_hr.isin({'region':regs_less5}).region ].index, inplace=True) #удаляем данные этих районов\n",
    "\n",
    "    #сохраняем файл\n",
    "    if save_data == True and save_fname <> '':\n",
    "        data_hr.to_csv(save_fname, index=False)\n",
    "\n",
    "    if return_data == True:\n",
    "        return data_hr"
   ]
  }
 ],
 "metadata": {
  "kernelspec": {
   "display_name": "Python 2",
   "language": "python",
   "name": "python2"
  },
  "language_info": {
   "codemirror_mode": {
    "name": "ipython",
    "version": 2
   },
   "file_extension": ".py",
   "mimetype": "text/x-python",
   "name": "python",
   "nbconvert_exporter": "python",
   "pygments_lexer": "ipython2",
   "version": "2.7.13"
  }
 },
 "nbformat": 4,
 "nbformat_minor": 2
}
