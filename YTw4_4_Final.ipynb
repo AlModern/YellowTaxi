{
 "cells": [
  {
   "cell_type": "markdown",
   "metadata": {},
   "source": [
    "<b><div style=\"text-align:right\">Алексей Бебчик&nbsp;&nbsp;</div><b>\n",
    "### Курс 6. Желтое такси. Неделя 4. Прогнозирование ряда со сложной сезонностью  \n",
    "(задание, оцениваемое сокурсниками)\n",
    "\n",
    "\n"
   ]
  },
  {
   "cell_type": "markdown",
   "metadata": {},
   "source": [
    "### Часть 4. Итог (обобщение данных, формирование файла для Kaggle)"
   ]
  },
  {
   "cell_type": "markdown",
   "metadata": {},
   "source": [
    "<a href=\"https://www.coursera.org/learn/data-analysis-project/peer/zp6d0/proghnozirovaniie-bol-shogho-kolichiestva-riadov\">Задание</a>\n",
    "\n",
    "\n",
    "8.Загрузите полученный файл на kaggle: <a href=\"https://inclass.kaggle.com/c/yellowtaxi\">https://inclass.kaggle.com/c/yellowtaxi</a>. Добавьте в ноутбук ссылку на сабмишн.\n",
    "9.Загрузите ноутбук в форму."
   ]
  },
  {
   "cell_type": "code",
   "execution_count": 1,
   "metadata": {
    "collapsed": false
   },
   "outputs": [
    {
     "name": "stdout",
     "output_type": "stream",
     "text": [
      "Populating the interactive namespace from numpy and matplotlib\n"
     ]
    }
   ],
   "source": [
    "#%matplotlib inline\n",
    "import numpy as np\n",
    "import pandas as pd\n",
    "import matplotlib.pyplot as plt\n",
    "from scipy import stats\n",
    "import os                                     #для проверки существования файлов\n",
    "import datetime as dt\n",
    "%pylab inline"
   ]
  },
  {
   "cell_type": "markdown",
   "metadata": {},
   "source": [
    "__ Загрузим уже агрерированные данные за 2016 год (файл с таким именем прилагается к работе)__"
   ]
  },
  {
   "cell_type": "code",
   "execution_count": null,
   "metadata": {
    "collapsed": true
   },
   "outputs": [],
   "source": []
  },
  {
   "cell_type": "code",
   "execution_count": 2,
   "metadata": {
    "collapsed": true
   },
   "outputs": [],
   "source": [
    "#Имя файла с данными для формирования и загрузки\n",
    "reg_fname = 'regions.csv'\n",
    "w4_fname  = 'K6_w4_tripdata_2016'"
   ]
  },
  {
   "cell_type": "markdown",
   "metadata": {},
   "source": [
    "<center>__Загружаем рассчитанные данные и готовим ответ__</center>"
   ]
  },
  {
   "cell_type": "code",
   "execution_count": 5,
   "metadata": {
    "collapsed": true
   },
   "outputs": [],
   "source": [
    "#Загружаем результаты кластеризации\n",
    "reg_clust_all = pd.read_csv(w4_fname+'_reg_clust.csv', sep=',') #считаем из файлоа\n",
    "\n",
    "data_reg = pd.DataFrame(reg_clust_all.region.unique(), columns=['region']) \n",
    "data_reg['reg_clust'] = np.array(data_reg.merge(reg_clust_all, how ='left', on = ['region']).label.fillna(0), int)\n",
    "\n",
    "clust_list = list(sorted(data_reg.reg_clust.unique()))"
   ]
  },
  {
   "cell_type": "code",
   "execution_count": 26,
   "metadata": {
    "collapsed": true
   },
   "outputs": [],
   "source": [
    "cNF_cols     = ['cN','cF', 'cNF']\n",
    "pred_cols    = ['cN','cF','cNF', 'region', 'num', 'dt_start', 'done', 'time', 'hour_num',\n",
    "                'pred_trips0', 'dt_hour', 'pred_trips', 'real_trips', 'delta_trips', 'delta_trips_abs']\n",
    "reg_cols     = ['cN','cF','cNF','region','reg_clust','one_clust', 'done', 'Q']"
   ]
  },
  {
   "cell_type": "code",
   "execution_count": 27,
   "metadata": {
    "collapsed": false
   },
   "outputs": [
    {
     "name": "stderr",
     "output_type": "stream",
     "text": [
      "C:\\Users\\anna8\\Anaconda2\\lib\\site-packages\\ipykernel_launcher.py:17: FutureWarning: Sorting because non-concatenation axis is not aligned. A future version\n",
      "of pandas will change to not sort by default.\n",
      "\n",
      "To accept the future behavior, pass 'sort=True'.\n",
      "\n",
      "To retain the current behavior and silence the warning, pass sort=False\n",
      "\n",
      "C:\\Users\\anna8\\Anaconda2\\lib\\site-packages\\ipykernel_launcher.py:26: FutureWarning: Sorting because non-concatenation axis is not aligned. A future version\n",
      "of pandas will change to not sort by default.\n",
      "\n",
      "To accept the future behavior, pass 'sort=True'.\n",
      "\n",
      "To retain the current behavior and silence the warning, pass sort=False\n",
      "\n"
     ]
    }
   ],
   "source": [
    "pred = pd.DataFrame(columns = pred_cols)\n",
    "reg  = pd.DataFrame(columns = reg_cols)\n",
    "\n",
    "for cNi in clust_list[:]:\n",
    "   \n",
    "    #два фолда\n",
    "    for cFi in range(1,3):\n",
    "\n",
    "        cNFi = int(str(cNi)+str(cFi))\n",
    "\n",
    "        pred_fname = w4_fname+'_c'+str(cNFi)+'_pred.csv' #предсказанные данные, разложенные по датам\n",
    "        if os.path.exists(pred_fname) == True:\n",
    "            tmp_pred = pd.read_csv(pred_fname, sep=',', parse_dates=['dt_start', 'dt_hour']) \n",
    "            tmp_pred['cN']  = cNi\n",
    "            tmp_pred['cF']  = cFi\n",
    "            tmp_pred['cNF'] = cNFi\n",
    "            pred = pd.concat([pred, tmp_pred])\n",
    "        else: print 'no file \"' + pred_fname + '\"'\n",
    "\n",
    "        reg_fname = w4_fname+'_c'+str(cNFi)+'_reg.csv'\n",
    "        if os.path.exists(reg_fname) == True:\n",
    "            tmp_reg = pd.read_csv(reg_fname, sep=',')  #регионы, их кластеры, качество предсказания\n",
    "            tmp_reg['cN']  = cNi\n",
    "            tmp_reg['cF']  = cFi\n",
    "            tmp_reg['cNF'] = cNFi\n",
    "            reg = pd.concat([reg, tmp_reg])\n",
    "        else: print 'no file \"' + reg_fname + '\"'"
   ]
  },
  {
   "cell_type": "code",
   "execution_count": 28,
   "metadata": {
    "collapsed": true
   },
   "outputs": [],
   "source": [
    "pred = pred[pred_cols]\n",
    "for c in cNF_cols+['region','done','num']: pred[c] = pred[c].astype(int)\n",
    "    \n",
    "reg = reg[reg_cols]\n",
    "for c in ['region','reg_clust','one_clust','done']: reg[c] = reg[c].astype(int)"
   ]
  },
  {
   "cell_type": "markdown",
   "metadata": {},
   "source": [
    "Запишем обобщенные по всем кластерам и фолдам в отдельные итоговые файлы данные в файл"
   ]
  },
  {
   "cell_type": "markdown",
   "metadata": {},
   "source": [
    "__Ответ на задание__"
   ]
  },
  {
   "cell_type": "markdown",
   "metadata": {},
   "source": [
    "Посчитайте в ноутбуке ошибку прогноза по следующему функционалу:\n",
    "$Q_{may} =\\frac1{R* 739* 6} \\sum\\limits_{r=1}^{R} \\sum_{T=2016.04.30\\,23:00}^{2016.05.31\\,17:00} \\sum_{i=1}^6 \\left| \\hat{y}^r_{T|T+i} - y_{T+i}^r \\right|.$  \n"
   ]
  },
  {
   "cell_type": "markdown",
   "metadata": {},
   "source": [
    "__1. Метрика Q за май__ (Фолд 1)"
   ]
  },
  {
   "cell_type": "code",
   "execution_count": 37,
   "metadata": {
    "collapsed": true
   },
   "outputs": [],
   "source": [
    "Q = sum(reg[reg.cF==1].Q)/reg[reg.cF==1].shape[0]"
   ]
  },
  {
   "cell_type": "code",
   "execution_count": 39,
   "metadata": {
    "collapsed": false
   },
   "outputs": [
    {
     "name": "stdout",
     "output_type": "stream",
     "text": [
      "Метрика Q на первом Фолде (май): 27.78\n"
     ]
    }
   ],
   "source": [
    "print 'Метрика Q на первом Фолде (май): {:.2f}'.format(Q)"
   ]
  },
  {
   "cell_type": "markdown",
   "metadata": {},
   "source": [
    "__2. Файл для Kaggle за июнь__ (Фолд 2)"
   ]
  },
  {
   "cell_type": "markdown",
   "metadata": {},
   "source": [
    "Запишите все прогнозы в файл в формате id,y, где столбец id состоит из склеенных через подчёркивание идентификатора географической зоны, даты конца истории, часа конца истории и номера отсчёта, на который делается предсказание (1-6); столбец y — ваш прогноз.  \n"
   ]
  },
  {
   "cell_type": "code",
   "execution_count": 14,
   "metadata": {
    "collapsed": true
   },
   "outputs": [],
   "source": [
    "# формируем идентификатор: Регион_ДатаЧас_ЧасПрозноза\n",
    "pred['save_id'] = pred.region.astype(int).astype(str) + '_'+pred.dt_start.dt.strftime('%Y-%m-%d_%H')\n",
    "# если в часе даты конца истории встречается 0, например, 03, то надо оставить 3 (если 00, то будет 0)\n",
    "pred['save_id'] = pred.save_id.apply(lambda x:x[:-2]+x[-1:] if x[-2:-1]=='0' else x)\n",
    "# добавляем номер прогнозного часа от 1 до 6\n",
    "pred['save_id'] = pred['save_id'] + '_' + pred.hour_num.astype(str).apply(lambda x:x[-1:])"
   ]
  },
  {
   "cell_type": "code",
   "execution_count": 17,
   "metadata": {
    "collapsed": true
   },
   "outputs": [],
   "source": [
    "# Сформируем файл с ответом\n",
    "kaggle_answer = pred[pred.cF==2][['save_id','pred_trips']]\n",
    "kaggle_answer.columns = ['id','y']\n",
    "kaggle_answer.to_csv('Alexey_Bebchik_k6w4_answer.csv', index=False)"
   ]
  },
  {
   "cell_type": "code",
   "execution_count": 18,
   "metadata": {
    "collapsed": false
   },
   "outputs": [
    {
     "data": {
      "text/plain": [
       "437580"
      ]
     },
     "execution_count": 18,
     "metadata": {},
     "output_type": "execute_result"
    }
   ],
   "source": [
    "kaggle_answer.shape[0] # Число записей"
   ]
  },
  {
   "cell_type": "markdown",
   "metadata": {},
   "source": [
    "Анализ зависимости качества прогноза от размера кластера"
   ]
  },
  {
   "cell_type": "code",
   "execution_count": 51,
   "metadata": {
    "collapsed": true
   },
   "outputs": [],
   "source": [
    "reg_grp = reg[reg.cF==2].groupby('reg_clust', as_index=False)[['done','Q']].sum()\n",
    "reg_grp.columns = ['clust','reg_count', 'Q']"
   ]
  },
  {
   "cell_type": "code",
   "execution_count": 87,
   "metadata": {
    "collapsed": false,
    "scrolled": false
   },
   "outputs": [
    {
     "name": "stdout",
     "output_type": "stream",
     "text": [
      "   reg_count            Q\n",
      "1          7    25.481958\n",
      "3         20   540.453315\n",
      "2         22   217.152909\n",
      "0         26  1809.720343\n",
      "4         27  1041.756428\n"
     ]
    }
   ],
   "source": [
    "print reg_grp.sort_values(by='reg_count')[['reg_count','Q']]"
   ]
  },
  {
   "cell_type": "code",
   "execution_count": 92,
   "metadata": {
    "collapsed": false,
    "scrolled": false
   },
   "outputs": [
    {
     "data": {
      "image/png": "[encoded data removed]",
      "text/plain": [
       "<Figure size 288x144 with 1 Axes>"
      ]
     },
     "metadata": {},
     "output_type": "display_data"
    }
   ],
   "source": [
    "plt.figure(figsize=(4,2))\n",
    "plt.plot(reg_grp.Q, label ='Q')\n",
    "plt.plot(reg_grp.reg_count*30, label='cluster size')\n",
    "plt.xticks(range(0,5))\n",
    "plt.legend()\n",
    "plt.show()"
   ]
  },
  {
   "cell_type": "markdown",
   "metadata": {},
   "source": [
    "В целом, чем больше размер кластера, тем хуже качество прогноза, это вполне разумно (хотя второй кластер не укладывается в эту тенденцию, безусловно, качество зависит и от характеристик рядов внутри кластера)."
   ]
  },
  {
   "cell_type": "markdown",
   "metadata": {},
   "source": [
    "__ВЫВОД__"
   ]
  },
  {
   "cell_type": "markdown",
   "metadata": {},
   "source": [
    "В работе была построена система автматизированного расчета подбора параметров модели и прогнозных значений, позволяющая остнавливать и продолжать расчтеы в произвольные моменты времени. \n",
    "\n",
    "Исходя из имеющихся вычислительных ресурсов для расчета использовались не оптимальные параметры, а \"квазиоптимальные\", т.е. те параметры, которые были оптимальны исходя из времени расчета модели неболее одной минуты (на хвосте из 300 значений), что приводило к пронозу одного полного района за один месяц в 15-20 минут. Если есть более мощиные ресурсы и время, то можно использовать лучшие параметры, достигая лучшего результата.\n",
    "\n",
    "И все же, качество предсказания вышло не очень хорошим. Видимо, следует увеличить количество кластеров. Также в этой работе не использовались некоторые дополнительные данные, такие как праздники, хотя и учитывалась погода.\n",
    "Возможно, следовало бы предсказывать остатки линейной регрессии, и качество было бы выше, но так задача не ставилась.\n",
    "\n",
    "Очевидным недостатком полученных моделей является наличие предсказанных отрицательных значений числа поездок, но пока нормально избавиться от них не удалось. Возможно, поможет логорифмирование данных, но это надо проверять.\n",
    "\n"
   ]
  },
  {
   "cell_type": "markdown",
   "metadata": {},
   "source": [
    "Файл ответа загружен на __Kaggle__:  __AlexModern__, 83 место (score 36.83). Есть, к чему стремиться. \n",
    "Приложен скриншот: __Alexey_Bebchik_Kaggle_Leaderbord_(AlexModern)__\n",
    "\n",
    "Если Выполнить обозначенные в выводах шаги, представляется, что этот результат, можно значительно улучшить."
   ]
  },
  {
   "cell_type": "markdown",
   "metadata": {},
   "source": [
    "P.S. \n",
    "Данные о погоде: Weather data in New York City - 2016 Added for the \"New York City Taxi Trip Duration\" challenge     \n",
    "https://www.kaggle.com/mathijs/weather-data-in-new-york-city-2016/data  \n",
    "Источник данных не самый лучший, т.к. нельзя выбирать период, но для рассматриваемого периода данных хватило."
   ]
  }
 ],
 "metadata": {
  "kernelspec": {
   "display_name": "Python 2",
   "language": "python",
   "name": "python2"
  },
  "language_info": {
   "codemirror_mode": {
    "name": "ipython",
    "version": 2
   },
   "file_extension": ".py",
   "mimetype": "text/x-python",
   "name": "python",
   "nbconvert_exporter": "python",
   "pygments_lexer": "ipython2",
   "version": "2.7.13"
  }
 },
 "nbformat": 4,
 "nbformat_minor": 2
}
